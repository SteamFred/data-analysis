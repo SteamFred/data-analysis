{
 "cells": [
  {
   "cell_type": "markdown",
   "metadata": {},
   "source": [
    "# Analyse des décès en France (toutes causes confondues)\n",
    "Ce notebook a pour but de mettre les chiffres de décès de 2020 en France en perspective afin d'en tirer des conclusions éclairées."
   ]
  },
  {
   "cell_type": "code",
   "execution_count": null,
   "metadata": {},
   "outputs": [],
   "source": [
    "# Bibliothèque d'analyse et de traitement de données\n",
    "import pandas as pd\n",
    "from pandas.api.types import CategoricalDtype\n",
    "print(\"Pandas version :\", pd.__version__)\n",
    "import numpy as np\n",
    "from datetime import datetime\n",
    "# Bibliothèques de gestion des graphiques\n",
    "import matplotlib.pyplot as plt\n",
    "# Bibliothèques de gestion des fichiers\n",
    "import glob\n",
    "import os.path\n",
    "# Bibliothèque de gestion du format csv pour écrire les fichiers cache\n",
    "import csv\n",
    "# \"Constantes\" ou variables globales\n",
    "csv_delimiter = ';'\n",
    "print ('Imports des bibliothèques terminés !')"
   ]
  },
  {
   "cell_type": "markdown",
   "metadata": {},
   "source": [
    "# Données sources\n",
    "Les données sources sont issues du __[Fichier des personnes décédées](https://www.data.gouv.fr/fr/datasets/fichier-des-personnes-decedees/)__ fournies en données ouvertes sur [data.gouv.fr](https://www.data.gouv.fr/fr/).\n",
    "\n",
    "Les fichiers `deces-*.txt` doivent être téléchargés dans le dossier de travail du notebook.\n",
    "Pour un traitement rapide, commencer par un petit nombre de fichiers, ex: 2002 et 2003.\n",
    "\n",
    "**note** : Certains fichiers portent parfois quelques \"caractères non imprimables\" qui font échouer sa lecture et son interprétation. Dans ce cas, il faut l'éditer pour rechercher et retirer ces caractères. Je ne sais pas si c'est un problème du fichier d'origine ou si c'est dû à un parasitage du téléchargement, je n'ai pas investigué.\n",
    "\n",
    "## Analyse et extraction\n",
    "Pour accélérer le travail, nous alons lire les fichiers `deces-*.txt` qui ont un format \"en largeur fixe\" et en extraire les informations essentielles suivantes :\n",
    " - date de décès\n",
    " - date de naissance\n",
    " \n",
    "Ces informations seront écrites dans un fichier cache au format CSV qui permettra plusieurs choses :\n",
    " 1. Accélérer une éventuelle relecture des données sources : au lieu de lire pour chaque année un fichier de plus de 100 Mo, on ne lit que quelques Mo.\n",
    " 1. Manipuler ces données dans un tableur indépendamment de cet exercice à des fins de recoupement, par exemple.\n",
    " 1. Porter directement l'âge du décès par soustraction plutôt que la date de naissance pour éviter de refaire le calcul à chaque utilisation de la donnée.\n",
    " \n",
    "Pour que le code soit compréhensible, je laisse un certain nombre de variables intermédiaires."
   ]
  },
  {
   "cell_type": "code",
   "execution_count": null,
   "metadata": {
    "scrolled": false
   },
   "outputs": [],
   "source": [
    "# Lister tous les fichiers qui commencent par \"deces\" et sont au format texte (finissent par \".txt\")\n",
    "sourcelist = [f for f in glob.glob(\"deces*.txt\")]\n",
    "# Pour chaque fichier de cette liste...\n",
    "for source in sourcelist:\n",
    "    # on va créer un pendant au même nom, mais se terminant par .csv\n",
    "    cachefile = source[0:-4] + '.csv'\n",
    "    # Par contre, on ne crée ce fichier que s'il n'existe pas ou s'il est plus vieux que le fichier de données\n",
    "    if not(os.path.exists(cachefile)) or os.path.getmtime(source) > os.path.getmtime(cachefile):\n",
    "        if os.path.exists(cachefile):\n",
    "            os.remove(cachefile)\n",
    "        with open(cachefile, 'w', newline='') as cache:\n",
    "            cache_writer = csv.writer(cache, delimiter = csv_delimiter, quotechar='\"', quoting=csv.QUOTE_MINIMAL)\n",
    "            print ('Génération du cache CSV pour le fichier : ' + source)\n",
    "            # On crée une première ligne portant le nom des 2 colonnes\n",
    "            cache_writer.writerow(['date', 'age'])\n",
    "            # On ouvre ensuite le fichier source pour en lire toutes ses lignes en gérant les caractères accentués\n",
    "            with open(source,'r', errors='replace') as f:\n",
    "                lines = f.readlines()\n",
    "            # Pour chaque ligne du fichier source...\n",
    "            for l in lines:\n",
    "                # ...on interprète la date de décès aux caractères 154 à 161 inclus (donc 162 exclus)\n",
    "                txt_date_d = l[154:162]\n",
    "                try:\n",
    "                    date_d = datetime.strptime(txt_date_d, \"%Y%m%d\")\n",
    "                except ValueError:\n",
    "                    # Si la date n'est pas interprétable, alors on met zero\n",
    "                    date_d = 0\n",
    "                    continue\n",
    "                # ...on interprète la date de naissance aux caractères 81 à 88\n",
    "                try:\n",
    "                    date_n = datetime.strptime(l[81:89], \"%Y%m%d\")\n",
    "                except ValueError:\n",
    "                    # Si la date n'est pas interprétable, alors on met zero\n",
    "                    date_n = 0\n",
    "                    continue\n",
    "                # Ici, on peut choisir de filtrer.\n",
    "                # Par exemple, on peut choisir de ne conserver que les années 20xx et 199x\n",
    "                # Mais surtout, on ignore les dates non reconnues\n",
    "                if date_d != 0 and date_n != 0 and (txt_date_d[0:2] == '20' or txt_date_d[0:3] == '199'):\n",
    "                    # Puis on calcule l'âge qu'on écrit avec la date de décès dans le fichier csv\n",
    "                    age = date_d.year - date_n.year - ((date_d.month, date_d.day) < (date_n.month, date_n.day))\n",
    "                    cache_writer.writerow([txt_date_d[0:4]+'/'+txt_date_d[4:6]+'/'+txt_date_d[6:8],age])\n",
    "print ('(Ré)génération des caches CSV terminée !')"
   ]
  },
  {
   "cell_type": "markdown",
   "metadata": {},
   "source": [
    "## Relecture du cache\n",
    "Ci-après, on lit tous les fichiers cache pour les concaténer en mémoire afin de faire notre analyse.\n",
    "\n",
    "Pour réinitialiser toutes les données de la \"dataframe\" df, c'est cette cellule qu'il faut réexécuter."
   ]
  },
  {
   "cell_type": "code",
   "execution_count": null,
   "metadata": {
    "scrolled": true
   },
   "outputs": [],
   "source": [
    "print ('Lecture des fichiers cache...')\n",
    "# Créer une liste de tous les csv\n",
    "chunks = []\n",
    "cachelist = [f for f in glob.glob(\"deces*.csv\")]\n",
    "for cache in cachelist:\n",
    "    # print ('Lecture de :', cache)\n",
    "    chunks.append(pd.read_csv(cache,\n",
    "                              sep=';',\n",
    "                              encoding='latin_1',        # Spécifie l'encodage du fichier à lire\n",
    "                              dtype={'age':np.int8},     # Stocke l'age dans un format court pour la performance\n",
    "                              index_col=['date'],        # Crée un indexe sur la colonne date\n",
    "                              parse_dates=True))         # Interprète automatiquement ce qui ressemble à une date\n",
    "# Concatène le tout\n",
    "df = pd.concat(chunks, axis=0, ignore_index=False)\n",
    "# Affiche les premières lignes pour vérifier que tout s'est bien passé\n",
    "df.tail()\n",
    "# Exemples d'utilisation :\n",
    "#  * Sélection de tous les décès à moins de 50 ans : df[df.age < 50]\n",
    "#  * Sélection de tous les décès du mois de février 2020 : df.loc['2020-02']"
   ]
  },
  {
   "cell_type": "markdown",
   "metadata": {},
   "source": [
    "## Classification\n",
    "Pour se simplifier l'interprétation graphique, on va classer chaque décès dans une catégorie d'âge.\n",
    "\n",
    "J'ai découpé en tranches plus ou moins fines..."
   ]
  },
  {
   "cell_type": "code",
   "execution_count": null,
   "metadata": {},
   "outputs": [],
   "source": [
    "df['classe'] = pd.cut(df.age, bins=[0, 18, 25, 45, 55, 65, 75, 85, 150],\n",
    "                      labels=['mineur', '18-25 ans', '26-45 ans', '46-55 ans', '56-65 ans', '66-75 ans', '76-85 ans', 'plus de 86 ans'])\n",
    "df.tail()"
   ]
  },
  {
   "cell_type": "markdown",
   "metadata": {},
   "source": [
    "## Nombre de décès par date par catégorie\n",
    "A partir de la dataframe contenant les catégories, on crée une matrice pour compter le nombre de décès par date par catégorie. "
   ]
  },
  {
   "cell_type": "code",
   "execution_count": null,
   "metadata": {},
   "outputs": [],
   "source": [
    "ages_df = df.groupby(['date', 'classe']).age.count().astype(np.int16).unstack()\n",
    "ages_df.tail()"
   ]
  },
  {
   "cell_type": "markdown",
   "metadata": {
    "scrolled": true
   },
   "source": [
    "# Analyses graphiques\n",
    "## Analyse graphique par classe d'âge durant le confinement en France\n",
    "Afin de rendre la courbe plus lisible (la débruiter), on utilise une fonction de lissage ewm moyenné avec un facteur alpha assez faible.\n",
    "Analysons la période du confinement élargie de mars à mai.\n",
    "Constate-t-on que pour la population au dessous de 65 ans, ne nombre de décès n'a pas varié de façon notable ?"
   ]
  },
  {
   "cell_type": "code",
   "execution_count": null,
   "metadata": {
    "scrolled": false
   },
   "outputs": [],
   "source": [
    "# Pour supprimer le lissage, mettre alpha=1\n",
    "# _= est une petite astuce de Romain WaaY pour ne pas afficher de message parasite avec le graphique\n",
    "_=ages_df.ewm(alpha=0.2).mean().loc['2020-03':'2020-05'].plot(figsize=(18,10), legend='reverse')"
   ]
  },
  {
   "cell_type": "markdown",
   "metadata": {},
   "source": [
    "## Analyse graphique sur les 20 dernières années\n",
    "Mettons maintenant en perspective la surmortalité du printemps 2020 par rapport aux 20 dernières années, toutes classes d'âge confondues.\n",
    "\n",
    "D'une manière générale, on constate des pics de décès de plus en plus hauts tous les 2 à 4 ans.\n",
    "\n",
    "Le pic de 2020 est élevé, mais semble rester dans la tendance haussière générale..."
   ]
  },
  {
   "cell_type": "code",
   "execution_count": null,
   "metadata": {},
   "outputs": [],
   "source": [
    "_=df.loc['2000-09':'2020-09-15'].classe.groupby('date').count().plot(figsize=(18,8))\n",
    "# Calcul des moyennes annuelles\n",
    "an_debut = 2001\n",
    "an_fin = 2021\n",
    "moyennes = pd.Series([int(ages_df.loc[str(an)].mean().sum()) for an in range(an_debut,an_fin)],\n",
    "                     index=[datetime.strptime(str(an), \"%Y\") for an in range(an_debut,an_fin)])\n",
    "moyennes.plot()"
   ]
  },
  {
   "cell_type": "code",
   "execution_count": null,
   "metadata": {},
   "outputs": [],
   "source": [
    "#Todo: superposer les courbes\n",
    "#plt.figure(figsize=(18,8))\n",
    "#df.loc['2009-09'].classe.groupby('date').count().plot()\n",
    "#df.loc['2010-09'].classe.groupby('date').count().plot()"
   ]
  },
  {
   "cell_type": "code",
   "execution_count": null,
   "metadata": {},
   "outputs": [],
   "source": [
    "ddf = pd.DataFrame(df.classe.groupby('date').count())\n",
    "ddf.tail()"
   ]
  },
  {
   "cell_type": "code",
   "execution_count": null,
   "metadata": {},
   "outputs": [],
   "source": [
    "#Todo: superposer les courbes\n",
    "plt.figure(figsize=(18,8))\n",
    "df.loc['2019-09-01':'2019-10-26'].classe.groupby('date').count().ewm(alpha=0.2).mean().plot()\n",
    "df.loc['2018-09-01':'2018-10-26'].classe.groupby('date').count().ewm(alpha=0.2).mean().plot()"
   ]
  },
  {
   "cell_type": "code",
   "execution_count": null,
   "metadata": {},
   "outputs": [],
   "source": [
    "ddf['annee'] = ddf.index.year\n",
    "ddf['doy'] = ddf.index.dayofyear\n",
    "ddf.tail()"
   ]
  },
  {
   "cell_type": "code",
   "execution_count": null,
   "metadata": {},
   "outputs": [],
   "source": [
    "ddf.reset_index(inplace=True)\n",
    "ddf.set_index(['annee', 'doy'], inplace=True)\n",
    "ddf"
   ]
  },
  {
   "cell_type": "code",
   "execution_count": null,
   "metadata": {},
   "outputs": [],
   "source": [
    "plt.figure(figsize=(18,18))\n",
    "ddf.loc[2017].classe.plot(x=ddf.date)\n",
    "ddf.loc[2018].classe.plot(x=ddf.date)\n",
    "ddf.loc[2019].classe.plot(x=ddf.date)\n",
    "ddf.loc[2020].classe.plot(x=ddf.date)"
   ]
  }
 ],
 "metadata": {
  "celltoolbar": "Format de la Cellule Texte Brut",
  "kernelspec": {
   "display_name": "Python 3",
   "language": "python",
   "name": "python3"
  },
  "language_info": {
   "codemirror_mode": {
    "name": "ipython",
    "version": 3
   },
   "file_extension": ".py",
   "mimetype": "text/x-python",
   "name": "python",
   "nbconvert_exporter": "python",
   "pygments_lexer": "ipython3",
   "version": "3.8.3"
  }
 },
 "nbformat": 4,
 "nbformat_minor": 4
}
